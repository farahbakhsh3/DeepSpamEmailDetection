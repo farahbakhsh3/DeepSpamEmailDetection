{
  "nbformat": 4,
  "nbformat_minor": 0,
  "metadata": {
    "colab": {
      "name": "Spam.ipynb",
      "provenance": [],
      "authorship_tag": "ABX9TyO8HzppJAGf/B963B1AxA70",
      "include_colab_link": true
    },
    "kernelspec": {
      "name": "python3",
      "display_name": "Python 3"
    },
    "accelerator": "GPU"
  },
  "cells": [
    {
      "cell_type": "markdown",
      "metadata": {
        "id": "view-in-github",
        "colab_type": "text"
      },
      "source": [
        "<a href=\"https://colab.research.google.com/github/farahbakhsh3/DeepSpamEmailDetection/blob/master/Spam.ipynb\" target=\"_parent\"><img src=\"https://colab.research.google.com/assets/colab-badge.svg\" alt=\"Open In Colab\"/></a>"
      ]
    },
    {
      "cell_type": "code",
      "metadata": {
        "id": "z-Aflz1xWCYN"
      },
      "source": [
        "import pandas as pd\r\n",
        "data = pd.read_csv('./train/train.csv')\r\n",
        "x = data['Text'].to_numpy()\r\n",
        "y = data['Class'].to_numpy()\r\n",
        "print(x.shape)\r\n",
        "x[8712] = ' '\r\n",
        "\r\n",
        "from tensorflow.keras.models import Model\r\n",
        "from tensorflow.keras.layers import Embedding, Flatten, Dense, LSTM, Input, Dropout\r\n",
        "from tensorflow.keras.layers import Conv1D, AveragePooling1D, MaxPooling1D\r\n",
        "from tensorflow.keras.preprocessing import sequence, text\r\n",
        "from tensorflow.keras.metrics import AUC\r\n",
        "from tensorflow.keras.optimizers import Adam\r\n",
        "\r\n"
      ],
      "execution_count": null,
      "outputs": []
    },
    {
      "cell_type": "code",
      "metadata": {
        "id": "CjH5e7zvWQKU"
      },
      "source": [
        "maxlen = 1000\r\n",
        "max_words = 20000\r\n",
        "embedding_dim = 50\r\n",
        "\r\n",
        "tokenizer = text.Tokenizer(\r\n",
        "    filters='0123456789!\"#$%&()*+,-./:;<=>?@[\\\\]^_`{|}~\\t\\n',\r\n",
        "    num_words=max_words)\r\n",
        "tokenizer.fit_on_texts(x)\r\n",
        "x_train = tokenizer.texts_to_sequences(x)\r\n",
        "\r\n",
        "x_train = sequence.pad_sequences(x_train, maxlen=maxlen)\r\n",
        "print(x_train.shape)\r\n",
        "y_train = y\r\n",
        "\r\n",
        "inp = Input(shape=(maxlen,))\r\n",
        "x = Embedding(max_words, \r\n",
        "                    embedding_dim, \r\n",
        "                    input_length=maxlen) (inp)\r\n",
        "x = Conv1D(32,3,strides=1,\r\n",
        "                 padding='same', activation='relu') (x)\r\n",
        "x = MaxPooling1D(3) (x)\r\n",
        "x = LSTM(32) (x)\r\n",
        "x = Flatten() (x)\r\n",
        "x = Dense(128, activation='relu') (x)\r\n",
        "x = Dropout(0.5) (x)\r\n",
        "out = Dense(1, activation='sigmoid') (x)\r\n",
        "\r\n",
        "model = Model(inp, out)\r\n",
        "model.summary()\r\n",
        "\r\n",
        "model.compile(optimizer=Adam(learning_rate=0.0001, beta_1=0.5),\r\n",
        "              loss='binary_crossentropy',\r\n",
        "              metrics=[AUC(), 'accuracy'])\r\n",
        "\r\n",
        "history = model.fit(x_train, y_train,\r\n",
        "                    epochs=50,\r\n",
        "                    batch_size=128,\r\n",
        "                    validation_split=0.2)"
      ],
      "execution_count": null,
      "outputs": []
    }
  ]
}